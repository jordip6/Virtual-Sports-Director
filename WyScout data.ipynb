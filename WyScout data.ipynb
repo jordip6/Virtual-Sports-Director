{
 "cells": [
  {
   "cell_type": "markdown",
   "metadata": {},
   "source": [
    "### En primer lugar convertimos todos los json de eventos de las 5 grandes ligas a archivos csv"
   ]
  },
  {
   "cell_type": "code",
   "execution_count": 1,
   "metadata": {},
   "outputs": [],
   "source": [
    "import os, glob\n",
    "import pandas as pd\n",
    "import numpy as np\n",
    "\n",
    "df_england = pd.read_json (r'\\Users\\jordi\\Desktop\\TFM\\events_England.json')\n",
    "extract_csv_england = df_england.to_csv(r'\\Users\\jordi\\Desktop\\TFM\\events_England.csv')\n",
    "\n",
    "df_france = pd.read_json (r'\\Users\\jordi\\Desktop\\TFM\\events_France.json')\n",
    "extract_csv_france = df_france.to_csv(r'\\Users\\jordi\\Desktop\\TFM\\events_France.csv')\n",
    "\n",
    "df_germany = pd.read_json (r'\\Users\\jordi\\Desktop\\TFM\\events_Germany.json')\n",
    "extract_csv_germany = df_germany.to_csv(r'\\Users\\jordi\\Desktop\\TFM\\events_Germany.csv')\n",
    "\n",
    "df_italy = pd.read_json (r'\\Users\\jordi\\Desktop\\TFM\\events_Italy.json')\n",
    "extract_csv_italy = df_italy.to_csv(r'\\Users\\jordi\\Desktop\\TFM\\events_Italy.csv')\n",
    "\n",
    "df_spain = pd.read_json (r'\\Users\\jordi\\Desktop\\TFM\\events_Spain.json')\n",
    "extract_csv_spain = df_spain.to_csv(r'\\Users\\jordi\\Desktop\\TFM\\events_Spain.csv')\n",
    "\n",
    "#df_european_championship = pd.read_json (r'/Users/jordipuig/Desktop/Master Big Data/TFM/events_European_Championship.json')\n",
    "#extract_csv_european_championship = df.to_csv(r'/Users/jordipuig/Desktop/Master Big Data/TFM/events_European_Championship.csv')\n",
    "\n"
   ]
  },
  {
   "cell_type": "markdown",
   "metadata": {},
   "source": [
    "### A partir de los 5 csv generamos un csv único con todos los eventos"
   ]
  },
  {
   "cell_type": "code",
   "execution_count": 2,
   "metadata": {},
   "outputs": [],
   "source": [
    "path = \"C:/Users/jordi/Desktop/TFM\"\n",
    "\n",
    "all_files = glob.glob(os.path.join(path, \"*.csv\"))\n",
    "\n",
    "all_df = []\n",
    "\n",
    "for f in all_files:\n",
    "    df = pd.read_csv(f, sep=',')\n",
    "    df['file'] = f.split('/')[-1]\n",
    "    all_df.append(df)\n",
    "    \n",
    "merged_df = pd.concat(all_df, ignore_index=True, sort=True)\n",
    "\n",
    "merged_df['accurate']= merged_df['tags'].str.contains(\" 1801\")\n",
    "merged_df.loc[merged_df['accurate']==True,'Accurate'] = 1\n",
    "merged_df.loc[merged_df['accurate']==False,'Accurate'] = 0\n",
    "\n",
    "\n",
    "merged_df['not accurate'] = merged_df['tags'].str.contains(\" 1802\")\n",
    "merged_df.loc[merged_df['not accurate']==True,'Not Accurate'] = 1\n",
    "merged_df.loc[merged_df['not accurate']==False,'Not Accurate'] = 0\n",
    "\n",
    "\n",
    "merged_df['goal'] = merged_df['tags'].str.contains(\" 101\")\n",
    "merged_df.loc[merged_df['goal']==True,'Goal'] = 1\n",
    "merged_df.loc[merged_df['goal']==False,'Goal'] = 0\n",
    "\n",
    "\n",
    "merged_df['won'] = merged_df['tags'].str.contains(\" 703\")\n",
    "merged_df.loc[merged_df['won']==True,'Won'] = 1\n",
    "merged_df.loc[merged_df['won']==False,'Won'] = 0\n",
    "\n",
    "\n",
    "merged_df['neutral'] = merged_df['tags'].str.contains(\" 702\") \n",
    "merged_df.loc[merged_df['neutral']==True,'Neutral'] = 1\n",
    "merged_df.loc[merged_df['neutral']==False,'Neutral'] = 0\n",
    "\n",
    "\n",
    "merged_df['lost'] = merged_df['tags'].str.contains(\" 701\") \n",
    "merged_df.loc[merged_df['lost']==True,'Lost'] = 1\n",
    "merged_df.loc[merged_df['lost']==False,'Lost'] = 0\n",
    "\n",
    "\n",
    "merged_df['assist'] = merged_df['tags'].str.contains(\" 301\") \n",
    "merged_df.loc[merged_df['assist']==True,'Assist'] = 1\n",
    "merged_df.loc[merged_df['assist']==False,'Assist'] = 0\n",
    "\n",
    "\n",
    "merged_df['key pass'] = merged_df['tags'].str.contains(\" 302\")\n",
    "merged_df.loc[merged_df['key pass']==True,'Key Pass'] = 1\n",
    "merged_df.loc[merged_df['key pass']==False,'Key Pass'] = 0\n",
    "\n",
    "\n",
    "merged_df['opportunity'] = merged_df['tags'].str.contains(\" 201\")\n",
    "merged_df.loc[merged_df['opportunity']==True, 'Opportunity'] = 1\n",
    "merged_df.loc[merged_df['opportunity']==False,'Opportunity'] = 0\n",
    "\n",
    "merged_df['blocked'] = merged_df['tags'].str.contains(\" 2101\")\n",
    "merged_df.loc[merged_df['blocked']==True,'Blocked'] = 1\n",
    "merged_df.loc[merged_df['blocked']==False,'Blocked'] = 0\n",
    "\n",
    "\n",
    "merged_df['anticipated'] = merged_df['tags'].str.contains(\" 601\")\n",
    "merged_df.loc[merged_df['anticipated']==True,'Anticipated'] = 1\n",
    "merged_df.loc[merged_df['anticipated']==False,'Anticipated'] = 0\n",
    "\n",
    "\n",
    "merged_df['anticipation'] = merged_df['tags'].str.contains(\" 602\")\n",
    "merged_df.loc[merged_df['anticipation']==True,'Anticipation'] = 1\n",
    "merged_df.loc[merged_df['anticipation']==False,'Anticipation'] = 0\n",
    "\n",
    "\n",
    "merged_df['interception'] = merged_df['tags'].str.contains(\" 1401\")\n",
    "merged_df.loc[merged_df['interception']==True,'Interception'] = 1\n",
    "merged_df.loc[merged_df['interception']==False,'Interception'] = 0\n",
    "\n",
    "\n",
    "merged_df['take on left'] = merged_df['tags'].str.contains(\" 503\")\n",
    "merged_df.loc[merged_df['take on left']==True,'Take On Left'] = 1\n",
    "merged_df.loc[merged_df['take on left']==False,'Take On Left'] = 0\n",
    "\n",
    "\n",
    "merged_df['take on right'] = merged_df['tags'].str.contains(\" 504\")\n",
    "merged_df.loc[merged_df['take on right']==True,'Take On Right'] = 1\n",
    "merged_df.loc[merged_df['take on right']==False,'Take On Right'] = 0\n",
    "\n",
    "merged_df['sliding tackle'] = merged_df['tags'].str.contains(\" 1601\")\n",
    "merged_df.loc[merged_df['sliding tackle']==True,'Sliding Tackle'] = 1\n",
    "merged_df.loc[merged_df['sliding tackle']==False,'Sliding Tackle'] = 0\n",
    "\n",
    "merged_df['through'] = merged_df['tags'].str.contains(\" 901\") \n",
    "merged_df.loc[merged_df['through']==True,'Through'] = 1\n",
    "merged_df.loc[merged_df['through']==False,'Through'] = 0\n",
    "\n",
    "merged_df['tiro a puerta'] = merged_df['tags'].str.contains(\"1201|1202|1203|1204|1205|1206|1207|1208|1209\")\n",
    "merged_df.loc[merged_df['tiro a puerta']==True,'Tiro a puerta'] = 1\n",
    "merged_df.loc[merged_df['tiro a puerta']==False,'Tiro a puerta'] = 0\n",
    "\n",
    "merged_df['tiro fuera'] = merged_df['tags'].str.contains(\"1210|1211|1212|1213|1214|1215|1216\")\n",
    "merged_df.loc[merged_df['tiro fuera']==True,'Tiro fuera'] = 1\n",
    "merged_df.loc[merged_df['tiro fuera']==False,'Tiro fuera'] = 0\n",
    "\n",
    "merged_df['tiro al palo'] = merged_df['tags'].str.contains(\"1217|1218|1219|1220|1221|1222|1223\")\n",
    "merged_df.loc[merged_df['tiro al palo']==True,'Tiro al palo'] = 1\n",
    "merged_df.loc[merged_df['tiro al palo']==False,'Tiro al palo'] = 0\n",
    "\n",
    "##merged_csv = merged_df.to_csv( r'/Users/jordipuig/Desktop/Master Big Data/TFM/events_all.csv')"
   ]
  },
  {
   "cell_type": "markdown",
   "metadata": {},
   "source": [
    "### Repetimos el mismo proceso para los JSON con los id de players y teams"
   ]
  },
  {
   "cell_type": "code",
   "execution_count": 3,
   "metadata": {},
   "outputs": [],
   "source": [
    "df_players = pd.read_json (r'\\Users\\jordi\\Desktop\\TFM\\Auxiliar\\players.json')\n",
    "df_players_short = df_players.drop(['passportArea','weight','middleName','currentTeamId','height','role', 'birthArea',\n",
    "                                    'currentNationalTeamId'], axis=1)\n",
    "#extract_csv_players = df_players_short.to_csv(r'\\Users\\jordi\\OneDrive\\Escritorio\\TFM\\Auxiliar\\players.csv')\n",
    "\n",
    "df_teams = pd.read_json (r'\\Users\\jordi\\Desktop\\TFM\\Auxiliar\\teams.json')\n",
    "df_teams_short = df_teams.drop(columns = ['city', 'area','type'],axis=1)\n",
    "#extract_csv_teams = df_teams_short.to_csv(r'\\Users\\jordi\\OneDrive\\Escritorio\\TFM\\Auxiliar\\teams.csv')"
   ]
  },
  {
   "cell_type": "markdown",
   "metadata": {},
   "source": [
    "### Ahora, hacemos un left join para obtener los nombres de los jugadores y de los equipos"
   ]
  },
  {
   "cell_type": "code",
   "execution_count": 4,
   "metadata": {},
   "outputs": [],
   "source": [
    "result_players = pd.merge(merged_df, df_players_short, how ='left', left_on='playerId', right_on='wyId')\n",
    "result_all = pd.merge(result_players,df_teams_short,how ='left', left_on='teamId', right_on='wyId', indicator = True)\n",
    "result_all_short = result_all.drop(columns = ['matchId','matchPeriod','positions','accurate','not accurate','goal',\n",
    "                                              'won','neutral','lost','assist','key pass','opportunity','blocked','anticipated',\n",
    "                                              'anticipation','interception','take on left','take on right','sliding tackle',\n",
    "                                              'through','tiro al palo','tiro a puerta','tiro fuera','eventSec','file','id',\n",
    "                                              'tags','firstName','lastName','wyId_x','name','wyId_y','_merge'],axis=1)\n",
    "\n",
    "##result_csv = result_all.to_csv(r'/Users/jordipuig/Desktop/Master Big Data/TFM/result_all.csv')"
   ]
  },
  {
   "cell_type": "markdown",
   "metadata": {},
   "source": [
    "### Deberemos agrupar por los KPI's más interesantes por posición"
   ]
  },
  {
   "cell_type": "code",
   "execution_count": 5,
   "metadata": {},
   "outputs": [],
   "source": [
    "#list(result_all_short.columns)\n",
    "df_final=result_all_short.groupby(['playerId','eventId','eventName','subEventId','subEventName','shortName',\n",
    "                                   'birthDate','foot','teamId','officialName','Accurate', \n",
    "                                   'Not Accurate','Goal','Won','Neutral','Lost','Assist','Key Pass','Opportunity',\n",
    "                                   'Blocked','Anticipated','Anticipation', 'Interception','Take On Left','Take On Right',\n",
    "                                   'Sliding Tackle','Through','Tiro a puerta','Tiro al palo','Tiro fuera']).count()\n",
    "\n",
    "\n",
    "df_final_csv=df_final.to_csv(r'\\Users\\jordi\\Desktop\\TFM\\Auxiliar\\wy_scout_final.csv')\n",
    "\n",
    "#df_final_xlsx=df_final.to_excel(r'/Users/jordipuig/Desktop/Master Big Data/TFM/Dataset/wy_scout_final.xlsx')"
   ]
  },
  {
   "cell_type": "code",
   "execution_count": null,
   "metadata": {},
   "outputs": [],
   "source": []
  },
  {
   "cell_type": "code",
   "execution_count": null,
   "metadata": {},
   "outputs": [],
   "source": []
  }
 ],
 "metadata": {
  "kernelspec": {
   "display_name": "Python 3",
   "language": "python",
   "name": "python3"
  },
  "language_info": {
   "codemirror_mode": {
    "name": "ipython",
    "version": 3
   },
   "file_extension": ".py",
   "mimetype": "text/x-python",
   "name": "python",
   "nbconvert_exporter": "python",
   "pygments_lexer": "ipython3",
   "version": "3.7.6"
  }
 },
 "nbformat": 4,
 "nbformat_minor": 2
}
